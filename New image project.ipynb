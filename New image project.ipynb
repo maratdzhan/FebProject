{
 "cells": [
  {
   "cell_type": "code",
   "execution_count": 1,
   "metadata": {},
   "outputs": [],
   "source": [
    "import pandas as pd\n",
    "import matplotlib.pyplot as plt\n",
    "import numpy as np\n",
    "from PIL import Image\n",
    "import time"
   ]
  },
  {
   "cell_type": "code",
   "execution_count": 2,
   "metadata": {},
   "outputs": [],
   "source": [
    "#D = np.asarray(Image.open('march/test_d.png'))"
   ]
  },
  {
   "cell_type": "code",
   "execution_count": 3,
   "metadata": {},
   "outputs": [],
   "source": [
    "def Build(N):\n",
    "    h = len(N);\n",
    "    w = len(N[0]);\n",
    "    if (len(N)):\n",
    "        h = len(N);\n",
    "        w = len(N[0]);\n",
    "    _d = np.zeros((h, w));\n",
    "    _n = np.zeros((h, w));\n",
    "    return h, w, _d, _n;"
   ]
  },
  {
   "cell_type": "code",
   "execution_count": 12,
   "metadata": {},
   "outputs": [],
   "source": [
    "############################################################################################\n",
    "##################################### COLOR PREFERENCES ####################################\n",
    "############################################################################################\n",
    "\n",
    "def GetColor(pix):\n",
    "    #print('for {}{}{} => r = {}; g = {}; b = {}'.format(red, green, blue, pix[0], pix[1], pix[2]));\n",
    "    if ((pix[0] > 150) and (pix[1] < 120 and pix[2] < 120)):\n",
    "        return True;\n",
    "    return False;\n",
    "\n",
    "def GetPlotData(I, imgh, imgw):\n",
    "    t0 = time.time()\n",
    "    r_x = [];\n",
    "    r_y = [];\n",
    "    for col in range(0,imgw):\n",
    "        for row in range(0, imgh):\n",
    "            if (GetColor(I[row][col])):\n",
    "                r_x.append(col);\n",
    "                r_y.append(row);\n",
    "    t1 = time.time()\n",
    "    print(t1-t0)\n",
    "    return r_x,r_y;"
   ]
  },
  {
   "cell_type": "code",
   "execution_count": 5,
   "metadata": {},
   "outputs": [],
   "source": [
    "############################################################################################\n",
    "######################################### REVERSING ########################################\n",
    "############################################################################################\n",
    "def Reversing(inp):\n",
    "    for i in range(0, len(inp)):\n",
    "        inp[i] = image_h - inp[i];\n",
    "    print('reversed');\n",
    "    return inp;"
   ]
  },
  {
   "cell_type": "code",
   "execution_count": 6,
   "metadata": {},
   "outputs": [],
   "source": [
    "############################################################################################\n",
    "####################################### NORMALIZATION ######################################\n",
    "############################################################################################\n",
    "def Normalization(inp, min_val, max_val, normalization_value):\n",
    "    rng = max_val - min_val;\n",
    "    for i in range(0, len(inp)):\n",
    "        inp[i] = inp[i]/(normalization_value)*rng;\n",
    "    return inp;"
   ]
  },
  {
   "cell_type": "code",
   "execution_count": 7,
   "metadata": {},
   "outputs": [],
   "source": [
    "############################################################################################\n",
    "####################################### RASTORIZATION ######################################\n",
    "############################################################################################\n",
    "def Rastorization(inp, out):\n",
    "    out.append(inp[0]);\n",
    "    for i in range(1, len(inp)):\n",
    "        if ((inp[i] - inp[i-1]) > 4):\n",
    "            out.append(inp[i-1]);\n",
    "    return inp;"
   ]
  },
  {
   "cell_type": "code",
   "execution_count": 149,
   "metadata": {
    "scrolled": true
   },
   "outputs": [
    {
     "name": "stdout",
     "output_type": "stream",
     "text": [
      "1.4680838584899902\n",
      "reversed\n"
     ]
    }
   ],
   "source": [
    "image = Image.open('march/smpl4.jpg')\n",
    "N = np.asarray(image)\n",
    "n_x = [];\n",
    "n_y = [];\n",
    "image_h, image_w, n_x, n_y = Build(N);\n",
    "n_x, n_y = GetPlotData(N, image_h, image_w);\n",
    "n_y = Reversing(n_y);\n",
    "n_y = Normalization(n_y, 94, 193, image_h);\n",
    "n_x = Normalization(n_x, 0, 11, image_w);"
   ]
  },
  {
   "cell_type": "code",
   "execution_count": 150,
   "metadata": {},
   "outputs": [],
   "source": [
    "nx = [];\n",
    "ny = [];\n",
    "k = 1;\n",
    "for i in range(len(n_x)):\n",
    "    if (not(k % 15)):\n",
    "        nx.append(n_x[i]);\n",
    "        ny.append(n_y[i]);\n",
    "    k+=1;"
   ]
  },
  {
   "cell_type": "code",
   "execution_count": 151,
   "metadata": {},
   "outputs": [
    {
     "data": {
      "image/png": "[encoded data removed]",
      "text/plain": [
       "<Figure size 936x576 with 1 Axes>"
      ]
     },
     "metadata": {
      "needs_background": "light"
     },
     "output_type": "display_data"
    }
   ],
   "source": [
    "plt.figure(figsize=(13,8))\n",
    "plt.plot(nx, ny, 'r-', label = 'something')\n",
    "plt.xticks(fontsize=16);\n",
    "plt.yticks(fontsize=16);\n",
    "plt.xlabel('OX', fontsize=20);\n",
    "plt.ylabel('OY', fontsize=20);\n",
    "plt.legend(fontsize=20);\n",
    "plt.grid(True);\n",
    "plt.show();"
   ]
  },
  {
   "cell_type": "code",
   "execution_count": 124,
   "metadata": {},
   "outputs": [
    {
     "data": {
      "text/plain": [
       "2974"
      ]
     },
     "execution_count": 124,
     "metadata": {},
     "output_type": "execute_result"
    }
   ],
   "source": [
    "len(n_x)"
   ]
  },
  {
   "cell_type": "code",
   "execution_count": 125,
   "metadata": {},
   "outputs": [
    {
     "data": {
      "text/plain": [
       "2677"
      ]
     },
     "execution_count": 125,
     "metadata": {},
     "output_type": "execute_result"
    }
   ],
   "source": [
    "len(nx)"
   ]
  },
  {
   "cell_type": "code",
   "execution_count": null,
   "metadata": {},
   "outputs": [],
   "source": []
  }
 ],
 "metadata": {
  "kernelspec": {
   "display_name": "Python 3",
   "language": "python",
   "name": "python3"
  },
  "language_info": {
   "codemirror_mode": {
    "name": "ipython",
    "version": 3
   },
   "file_extension": ".py",
   "mimetype": "text/x-python",
   "name": "python",
   "nbconvert_exporter": "python",
   "pygments_lexer": "ipython3",
   "version": "3.7.3"
  }
 },
 "nbformat": 4,
 "nbformat_minor": 2
}
