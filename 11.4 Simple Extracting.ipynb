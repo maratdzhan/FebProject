{
 "cells": [
  {
   "cell_type": "code",
   "execution_count": 5,
   "metadata": {},
   "outputs": [],
   "source": [
    "import pandas as pd;\n",
    "import numpy as np;\n",
    "import matplotlib.pyplot as plt;\n",
    "import glob as glob"
   ]
  },
  {
   "cell_type": "code",
   "execution_count": 9,
   "metadata": {},
   "outputs": [],
   "source": [
    "### Get KQ values\n",
    "def GetDatasetKQ(state_indexer):\n",
    "    dfa=[]\n",
    "    i = 'D:/Vasiliev/PERMAK-A/nv/z9-1.txt';\n",
    "    dataset_kq=pd.read_csv(i, names=['kq'])\n",
    "    dataset_kq['time']=1;\n",
    "    dataset_kq['tvs']=-1;\n",
    "    dataset_kq['state']=state_indexer;\n",
    "    state_indexer+=1;\n",
    "    inx=0;\n",
    "    cycle_length = 26;\n",
    "    for _time in range(cycle_length):\n",
    "        for _tvs in range(163):\n",
    "            dataset_kq.loc[inx,'time'] = _time;\n",
    "            dataset_kq.loc[inx,'tvs'] = _tvs+1;\n",
    "            inx+=1;\n",
    "    dfa.append(dataset_kq);\n",
    "    df=pd.concat(dfa, ignore_index=True, sort=False);\n",
    "    print('folder ready');\n",
    "    return df,state_indexer;"
   ]
  },
  {
   "cell_type": "code",
   "execution_count": 10,
   "metadata": {},
   "outputs": [],
   "source": [
    "### Get KK values\n",
    "def GetDatasetKK(state_indexer):\n",
    "    dfa=[];\n",
    "    i = 'D:/Vasiliev/PERMAK-A/nv/y9-1.csv';\n",
    "    dataset_kk=pd.read_csv(i ,names=['tvs','tvel','time','kk'],sep=';' )\n",
    "    dataset_kk.tvel+=1\n",
    "    dataset_kk['state']=state_indexer;\n",
    "    state_indexer+=1;\n",
    "    #dt_kk=dataset_kk.query('tvel==272 or tvel==282 or tvel==292 or tvel==302 or tvel==312 or tvel==322')\n",
    "    dt_kk=dataset_kk.query('tvel==277 or tvel==287 or tvel==297 or tvel==307 or tvel==317 or tvel==327')\n",
    "    dfa.append(dt_kk);\n",
    "    df=pd.concat(dfa, ignore_index=True, sort=False);\n",
    "    print('folder ready!');\n",
    "    return df,state_indexer;"
   ]
  },
  {
   "cell_type": "code",
   "execution_count": 11,
   "metadata": {},
   "outputs": [
    {
     "name": "stdout",
     "output_type": "stream",
     "text": [
      "folder ready\n",
      "folder ready!\n"
     ]
    }
   ],
   "source": [
    "state_inx = 33;\n",
    "dataset_kq_prv,state_indexer=GetDatasetKQ(state_inx)\n",
    "state_indexer=33;\n",
    "dataset_kk_prev,state_indexer=GetDatasetKK(state_indexer)"
   ]
  },
  {
   "cell_type": "code",
   "execution_count": 12,
   "metadata": {},
   "outputs": [],
   "source": [
    "dataset_kq = pd.concat([dataset_kq_prv.query('time == @tm') for tm in [0,13,25]], ignore_index=True, sort=False)\n",
    "dataset_kk = pd.concat([dataset_kk_prev.query('time == @tm') for tm in [0,13,25]], ignore_index=True, sort=False)"
   ]
  },
  {
   "cell_type": "code",
   "execution_count": 17,
   "metadata": {},
   "outputs": [
    {
     "name": "stdout",
     "output_type": "stream",
     "text": [
      "       kq  time  tvs  state\n",
      "255  1.08    13   93     33 \n",
      "\n",
      "\n",
      "      tvs  tvel  time      kk  state\n",
      "1531   93   287    13  0.9234     33\n"
     ]
    }
   ],
   "source": [
    "print(dataset_kq.query('tvs==93 & time==13'),'\\n\\n')\n",
    "print(dataset_kk.query('tvs==93 & tvel==287 & time==13'))"
   ]
  },
  {
   "cell_type": "code",
   "execution_count": null,
   "metadata": {},
   "outputs": [],
   "source": []
  }
 ],
 "metadata": {
  "kernelspec": {
   "display_name": "Python 3",
   "language": "python",
   "name": "python3"
  },
  "language_info": {
   "codemirror_mode": {
    "name": "ipython",
    "version": 3
   },
   "file_extension": ".py",
   "mimetype": "text/x-python",
   "name": "python",
   "nbconvert_exporter": "python",
   "pygments_lexer": "ipython3",
   "version": "3.7.3"
  }
 },
 "nbformat": 4,
 "nbformat_minor": 2
}
