{
 "cells": [
  {
   "cell_type": "code",
   "execution_count": 1,
   "metadata": {},
   "outputs": [],
   "source": [
    "import numpy as np\n",
    "import pandas as pd\n",
    "import matplotlib.pyplot as plt\n",
    "import glob\n",
    "import time\n",
    "import scipy.stats as st"
   ]
  },
  {
   "cell_type": "code",
   "execution_count": 4,
   "metadata": {},
   "outputs": [
    {
     "name": "stdout",
     "output_type": "stream",
     "text": [
      "files readed in:  0.09600567817687988\n"
     ]
    }
   ],
   "source": [
    "tit1=time.time()\n",
    "name_cen_nd = 'D:/Vasiliev/PERMAK-A/nv/8d9d/max_cen_m.csv'\n",
    "table_cen_nd=pd.read_csv(name_cen_nd, sep=',') \n",
    "print('files readed in: ',time.time()-tit1)"
   ]
  },
  {
   "cell_type": "code",
   "execution_count": 5,
   "metadata": {},
   "outputs": [],
   "source": [
    "zeros=table_cen_nd.query('state==0')"
   ]
  },
  {
   "cell_type": "code",
   "execution_count": 6,
   "metadata": {},
   "outputs": [
    {
     "name": "stdout",
     "output_type": "stream",
     "text": [
      "3.816218376159668\n"
     ]
    }
   ],
   "source": [
    "itcen_ndb=[]\n",
    "itcen_ndm=[]\n",
    "itcen_nde=[]\n",
    "kk_cen_nd=table_cen_nd.loc[:,'kr']\n",
    "kko=zeros.loc[:,'kr']\n",
    "t2=time.time()\n",
    "\n",
    "for _state in range (1,100):\n",
    "    vacb_cennd=table_cen_nd.query('state==@_state & time==0')\n",
    "    vacm_cennd=table_cen_nd.query('state==@_state & time==13')\n",
    "    vace_cennd=table_cen_nd.query('state==@_state & time==25')\n",
    "###\n",
    "    for i in vacb_cennd.index:\n",
    "         if (vacb_cennd.loc[i,'state']!=50):\n",
    "            res_cennd=100*(kk_cen_nd[i]-kko[i%120])/kko[i%120]\n",
    "            itcen_ndb.append(res_cennd)\n",
    "            \n",
    "    for i in vacm_cennd.index:\n",
    "        if (vacm_cennd.loc[i,'state']!=50):\n",
    "            res_cennd=100*(kk_cen_nd[i]-kko[i%120])/kko[i%120]\n",
    "            itcen_ndm.append(res_cennd)\n",
    "            \n",
    "    for i in vace_cennd.index:\n",
    "        if (vace_cennd.loc[i,'state']!=50):\n",
    "            res_cennd=100*(kk_cen_nd[i]-kko[i%120])/kko[i%120]\n",
    "            itcen_nde.append(res_cennd)\n",
    "            \n",
    "            \n",
    "print(time.time()-t2)"
   ]
  },
  {
   "cell_type": "code",
   "execution_count": 7,
   "metadata": {},
   "outputs": [
    {
     "data": {
      "image/png": "[encoded data removed]",
      "text/plain": [
       "<Figure size 1008x720 with 1 Axes>"
      ]
     },
     "metadata": {
      "needs_background": "light"
     },
     "output_type": "display_data"
    }
   ],
   "source": [
    "bins=np.linspace(-7,15,200)\n",
    "plt.figure(figsize=(14,10))\n",
    "plt.hist(itcen_ndb,bins,label='begin')\n",
    "plt.hist(itcen_ndm,bins,alpha=0.65,label='middle')\n",
    "plt.hist(itcen_nde,bins,alpha=0.3,label='end')\n",
    "plt.title('Отклонения относительной мощности твэлов',fontsize=16)\n",
    "plt.xticks(fontsize=16)\n",
    "plt.yticks(fontsize=16)\n",
    "plt.xlabel('Отклонение относительной мощности   (kk), %', fontsize=16)\n",
    "plt.ylabel('Частота, ед.', fontsize=16)\n",
    "plt.legend(fontsize=16)\n",
    "plt.grid(True)\n",
    "plt.show()\n"
   ]
  },
  {
   "cell_type": "code",
   "execution_count": 16,
   "metadata": {},
   "outputs": [
    {
     "data": {
      "text/html": [
       "<div>\n",
       "<style scoped>\n",
       "    .dataframe tbody tr th:only-of-type {\n",
       "        vertical-align: middle;\n",
       "    }\n",
       "\n",
       "    .dataframe tbody tr th {\n",
       "        vertical-align: top;\n",
       "    }\n",
       "\n",
       "    .dataframe thead th {\n",
       "        text-align: right;\n",
       "    }\n",
       "</style>\n",
       "<table border=\"1\" class=\"dataframe\">\n",
       "  <thead>\n",
       "    <tr style=\"text-align: right;\">\n",
       "      <th></th>\n",
       "      <th>tvs</th>\n",
       "      <th>tvel</th>\n",
       "      <th>time</th>\n",
       "      <th>kk</th>\n",
       "      <th>state</th>\n",
       "      <th>kq</th>\n",
       "      <th>kr</th>\n",
       "    </tr>\n",
       "  </thead>\n",
       "  <tbody>\n",
       "    <tr>\n",
       "      <th>32827</th>\n",
       "      <td>93</td>\n",
       "      <td>287</td>\n",
       "      <td>13</td>\n",
       "      <td>0.9234</td>\n",
       "      <td>33</td>\n",
       "      <td>1.08</td>\n",
       "      <td>0.997272</td>\n",
       "    </tr>\n",
       "  </tbody>\n",
       "</table>\n",
       "</div>"
      ],
      "text/plain": [
       "       tvs  tvel  time      kk  state    kq        kr\n",
       "32827   93   287    13  0.9234     33  1.08  0.997272"
      ]
     },
     "execution_count": 16,
     "metadata": {},
     "output_type": "execute_result"
    }
   ],
   "source": [
    "table_cen_nd.query('tvs==93 & tvel==287 & time==13 & state==33')"
   ]
  },
  {
   "cell_type": "code",
   "execution_count": null,
   "metadata": {},
   "outputs": [],
   "source": []
  }
 ],
 "metadata": {
  "kernelspec": {
   "display_name": "Python 3",
   "language": "python",
   "name": "python3"
  },
  "language_info": {
   "codemirror_mode": {
    "name": "ipython",
    "version": 3
   },
   "file_extension": ".py",
   "mimetype": "text/x-python",
   "name": "python",
   "nbconvert_exporter": "python",
   "pygments_lexer": "ipython3",
   "version": "3.7.3"
  }
 },
 "nbformat": 4,
 "nbformat_minor": 2
}
