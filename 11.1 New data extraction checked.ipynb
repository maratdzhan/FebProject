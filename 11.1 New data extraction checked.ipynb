{
 "cells": [
  {
   "cell_type": "code",
   "execution_count": 1,
   "metadata": {},
   "outputs": [],
   "source": [
    "import pandas as pd;\n",
    "import numpy as np;\n",
    "import matplotlib.pyplot as plt;\n",
    "import glob as glob"
   ]
  },
  {
   "cell_type": "code",
   "execution_count": 2,
   "metadata": {},
   "outputs": [],
   "source": [
    "### get files\n",
    "kk_arr = glob.glob('D:/Vasiliev/PERMAK-A/nv/8d9d/common/*.csv', recursive=True)\n",
    "kq_arr = glob.glob('D:/Vasiliev/PERMAK-A/nv/8d9d/common/*.txt', recursive=True)"
   ]
  },
  {
   "cell_type": "code",
   "execution_count": 3,
   "metadata": {},
   "outputs": [],
   "source": [
    "### Calculate max\n",
    "def GetMaxInitKq():\n",
    "    kq_init=pd.read_csv('~D:/Vasiliev/PERMAK-A/nv/8d9d/common/z9-01.txt',names=['kq']);\n",
    "    cycle_length=26;\n",
    "    kq_init['time']=1;\n",
    "    kq_init['tvs']=-1;\n",
    "    inx=0;\n",
    "    cycle_lenght = 26;\n",
    "    for _time in range(cycle_length):\n",
    "        for _tvs in range(163):\n",
    "            kq_init.loc[inx,'time'] = _time;\n",
    "            kq_init.loc[inx,'tvs'] = _tvs+1;\n",
    "            inx+=1;\n",
    "\n",
    "    kqmax=kq_init.query('time==0').sort_values('kq').tail(20)\n",
    "    len(np.unique(kqmax.tvs))\n",
    "    return kqmax.tvs.tolist();"
   ]
  },
  {
   "cell_type": "code",
   "execution_count": 4,
   "metadata": {},
   "outputs": [],
   "source": [
    "### Get KK values\n",
    "def GetDatasetKK(_folder,state_indexer):\n",
    "    dfa=[];\n",
    "    for i in _folder:\n",
    "        dataset_kk=pd.read_csv(i ,names=['tvs','tvel','time','kk'],sep=';' )\n",
    "        dataset_kk.tvel+=1\n",
    "        dataset_kk['state']=state_indexer;\n",
    "        state_indexer+=1;\n",
    "        #dt_kk=dataset_kk.query('tvel==272 or tvel==282 or tvel==292 or tvel==302 or tvel==312 or tvel==322')\n",
    "        dt_kk=dataset_kk.query('tvel==277 or tvel==287 or tvel==297 or tvel==307 or tvel==317 or tvel==327')\n",
    "        dt_kk=pd.concat([dt_kk.query('tvs==@i') for i in (kq_max_arr)], ignore_index=True, sort=False)\n",
    "        dfa.append(dt_kk);\n",
    "    df=pd.concat(dfa, ignore_index=True, sort=False);\n",
    "    print('folder ready!');\n",
    "    return df,state_indexer;"
   ]
  },
  {
   "cell_type": "code",
   "execution_count": 5,
   "metadata": {},
   "outputs": [],
   "source": [
    "### Get KQ values\n",
    "def GetDatasetKQ(_folder,state_indexer):\n",
    "    dfa=[]\n",
    "    for i in _folder:\n",
    "        dataset_kq=pd.read_csv(i, names=['kq'])\n",
    "        dataset_kq['time']=1;\n",
    "        dataset_kq['tvs']=-1;\n",
    "        dataset_kq['state']=state_indexer;\n",
    "        state_indexer+=1;\n",
    "        inx=0;\n",
    "        cycle_length = 26;\n",
    "        for _time in range(cycle_length):\n",
    "            for _tvs in range(163):\n",
    "                dataset_kq.loc[inx,'time'] = _time;\n",
    "                dataset_kq.loc[inx,'tvs'] = _tvs+1;\n",
    "                inx+=1;\n",
    "        dt_kq = pd.concat([dataset_kq.query('tvs == @i') for i in kq_max_arr], ignore_index=True, sort=False);\n",
    "        dfa.append(dt_kq);\n",
    "    df=pd.concat(dfa, ignore_index=True, sort=False);\n",
    "    print('folder ready');\n",
    "    return df,state_indexer;"
   ]
  },
  {
   "cell_type": "code",
   "execution_count": 6,
   "metadata": {},
   "outputs": [],
   "source": [
    "## Dataset eval\n",
    "def Dataset(dataset_kq, dataset_kk):\n",
    "    kr=[]\n",
    "    kq=[]\n",
    "    for i in range(len(dataset_kk)):\n",
    "        val=dataset_kk.iloc[i];\n",
    "        kq_val=dataset_kq.query('state==@val.state & tvs==@val.tvs')\n",
    "        kq_val.index=np.arange(0,len(kq_val), step = 1);\n",
    "        kr.append(val.kk*kq_val.loc[0,'kq'])\n",
    "        kq.append(kq_val.loc[0,'kq'])\n",
    "    dataset_kk['kq']=kq\n",
    "    dataset_kk['kr']=kr\n",
    "    print('state ready')\n",
    "    return dataset_kk;"
   ]
  },
  {
   "cell_type": "code",
   "execution_count": 7,
   "metadata": {
    "scrolled": false
   },
   "outputs": [
    {
     "name": "stdout",
     "output_type": "stream",
     "text": [
      "folder ready\n",
      "folder ready!\n"
     ]
    }
   ],
   "source": [
    "state_inx = 0;\n",
    "kq_max_arr = GetMaxInitKq();\n",
    "dataset_kq_prv,state_indexer=GetDatasetKQ(kq_arr, state_inx)\n",
    "state_indexer=0;\n",
    "dataset_kk_prev,state_indexer=GetDatasetKK(kk_arr,state_indexer)"
   ]
  },
  {
   "cell_type": "code",
   "execution_count": 8,
   "metadata": {},
   "outputs": [],
   "source": [
    "dataset_kq = pd.concat([dataset_kq_prv.query('time == @tm') for tm in [0,13,25]], ignore_index=True, sort=False)\n",
    "dataset_kk = pd.concat([dataset_kk_prev.query('time == @tm') for tm in [0,13,25]], ignore_index=True, sort=False)"
   ]
  },
  {
   "cell_type": "code",
   "execution_count": 9,
   "metadata": {},
   "outputs": [
    {
     "name": "stderr",
     "output_type": "stream",
     "text": [
      "C:\\ProgramData\\Anaconda3\\lib\\site-packages\\ipykernel_launcher.py:11: SettingWithCopyWarning: \n",
      "A value is trying to be set on a copy of a slice from a DataFrame.\n",
      "Try using .loc[row_indexer,col_indexer] = value instead\n",
      "\n",
      "See the caveats in the documentation: http://pandas.pydata.org/pandas-docs/stable/indexing.html#indexing-view-versus-copy\n",
      "  # This is added back by InteractiveShellApp.init_path()\n",
      "C:\\ProgramData\\Anaconda3\\lib\\site-packages\\ipykernel_launcher.py:12: SettingWithCopyWarning: \n",
      "A value is trying to be set on a copy of a slice from a DataFrame.\n",
      "Try using .loc[row_indexer,col_indexer] = value instead\n",
      "\n",
      "See the caveats in the documentation: http://pandas.pydata.org/pandas-docs/stable/indexing.html#indexing-view-versus-copy\n",
      "  if sys.path[0] == '':\n"
     ]
    },
    {
     "name": "stdout",
     "output_type": "stream",
     "text": [
      "state ready\n",
      "state ready\n",
      "state ready\n"
     ]
    }
   ],
   "source": [
    "united_b = Dataset(dataset_kq.query('time==0'), dataset_kk.query('time==0'));\n",
    "united_m = Dataset(dataset_kq.query('time==13'), dataset_kk.query('time==13'));\n",
    "united_e = Dataset(dataset_kq.query('time==25'), dataset_kk.query('time==25'));"
   ]
  },
  {
   "cell_type": "code",
   "execution_count": 10,
   "metadata": {},
   "outputs": [],
   "source": [
    "united_b.to_csv('D:/Vasiliev/PERMAK-A/nv/8d9d/s_cen_b.csv', index=False)\n",
    "united_m.to_csv('D:/Vasiliev/PERMAK-A/nv/8d9d/s_cen_m.csv',index=False)\n",
    "united_e.to_csv('D:/Vasiliev/PERMAK-A/nv/8d9d/s_cen_e.csv',index=False)"
   ]
  },
  {
   "cell_type": "code",
   "execution_count": null,
   "metadata": {},
   "outputs": [],
   "source": []
  }
 ],
 "metadata": {
  "kernelspec": {
   "display_name": "Python 3",
   "language": "python",
   "name": "python3"
  },
  "language_info": {
   "codemirror_mode": {
    "name": "ipython",
    "version": 3
   },
   "file_extension": ".py",
   "mimetype": "text/x-python",
   "name": "python",
   "nbconvert_exporter": "python",
   "pygments_lexer": "ipython3",
   "version": "3.7.3"
  }
 },
 "nbformat": 4,
 "nbformat_minor": 2
}
