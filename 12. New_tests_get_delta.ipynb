{
 "cells": [
  {
   "cell_type": "code",
   "execution_count": 1,
   "metadata": {},
   "outputs": [],
   "source": [
    "import pandas as pd\n",
    "import numpy as np"
   ]
  },
  {
   "cell_type": "code",
   "execution_count": 2,
   "metadata": {},
   "outputs": [],
   "source": [
    "_prefix = \"~\";\n",
    "_path = \"D:/Vasiliev/Python/Jupyter/FebProject/New stats/\";\n",
    "_postfix = \"8d9d/\";\n",
    "inputname = \"max_cen_e.csv\";\n",
    "outputname = \"21-04-analysis/_eoc_cen_8d9d_table_april.csv\";"
   ]
  },
  {
   "cell_type": "code",
   "execution_count": 3,
   "metadata": {},
   "outputs": [],
   "source": [
    "_table = pd.read_csv(_prefix + _path + _postfix + inputname);"
   ]
  },
  {
   "cell_type": "code",
   "execution_count": 4,
   "metadata": {},
   "outputs": [],
   "source": [
    "_table_initial = _table.query('state == 0');"
   ]
  },
  {
   "cell_type": "code",
   "execution_count": 5,
   "metadata": {},
   "outputs": [],
   "source": [
    "_table['dkk'] = 0.;\n",
    "_table['dkr'] = 0.;\n",
    "_table['dkq'] = 0.;"
   ]
  },
  {
   "cell_type": "code",
   "execution_count": 6,
   "metadata": {},
   "outputs": [],
   "source": [
    "def Decoding():\n",
    "    _table_state = _table.query('state != 0');\n",
    "    for j in _table_state.index:\n",
    "        _tvs =  _table_state.at[j, 'tvs'];\n",
    "        _kq =   _table_state.at[j, 'kq'];\n",
    "        _kk =   _table_state.at[j, 'kk'];\n",
    "        _kr =   _table_state.at[j, 'kr'];\n",
    "        _tvel = _table_state.at[j, 'tvel'];\n",
    "        _string = _table_initial.query('tvs == @_tvs & tvel ==@ _tvel').iloc[0];\n",
    "        _nkk = _string.kk;\n",
    "        _nkr = _string.kr;\n",
    "        _nkq = _string.kq;\n",
    "        _table.at[j, 'dkk'] = 100*((_kk - _nkk)/_nkk);\n",
    "        _table.at[j, 'dkq'] = 100*((_kq - _nkq)/_nkq);\n",
    "        _table.at[j, 'dkr'] = 100*((_kr - _nkr)/_nkr);\n",
    "    print('ready')"
   ]
  },
  {
   "cell_type": "code",
   "execution_count": 7,
   "metadata": {},
   "outputs": [
    {
     "name": "stdout",
     "output_type": "stream",
     "text": [
      "ready\n"
     ]
    }
   ],
   "source": [
    "Decoding();\n",
    "_table.to_csv(_path+outputname, index=False)"
   ]
  },
  {
   "cell_type": "code",
   "execution_count": null,
   "metadata": {},
   "outputs": [],
   "source": [
    "уверенность, не нужны сложности все сложится и так. комплименты - смена темы"
   ]
  },
  {
   "cell_type": "code",
   "execution_count": null,
   "metadata": {},
   "outputs": [],
   "source": [
    "спросить данию о ее поддержке. навыки по достижению цели. \n",
    "сформулировать о том, как я себя должен чувствовать достигая и в процессе достижения и при поддержке"
   ]
  }
 ],
 "metadata": {
  "kernelspec": {
   "display_name": "Python 3",
   "language": "python",
   "name": "python3"
  },
  "language_info": {
   "codemirror_mode": {
    "name": "ipython",
    "version": 3
   },
   "file_extension": ".py",
   "mimetype": "text/x-python",
   "name": "python",
   "nbconvert_exporter": "python",
   "pygments_lexer": "ipython3",
   "version": "3.7.3"
  }
 },
 "nbformat": 4,
 "nbformat_minor": 2
}
