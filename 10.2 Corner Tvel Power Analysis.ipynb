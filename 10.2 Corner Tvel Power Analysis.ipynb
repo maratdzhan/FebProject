{
 "cells": [
  {
   "cell_type": "code",
   "execution_count": 1,
   "metadata": {},
   "outputs": [],
   "source": [
    "import pandas as pd\n",
    "import numpy as np\n",
    "import matplotlib.pyplot as plt\n",
    "import glob as glob"
   ]
  },
  {
   "cell_type": "code",
   "execution_count": 2,
   "metadata": {},
   "outputs": [
    {
     "data": {
      "text/plain": [
       "20"
      ]
     },
     "execution_count": 2,
     "metadata": {},
     "output_type": "execute_result"
    }
   ],
   "source": [
    "dataset_kk=pd.read_csv('~D:/Vasiliev/PERMAK-A/nv/8d9d/13/y9-1.csv',names=['tvs','tvel','time','kk'],sep=';');\n",
    "dataset_kk.tvel+=1\n",
    "dataset_kq=pd.read_csv('~D:/Vasiliev/PERMAK-A/nv/8d9d/13/z9-1.txt',names=['kq']);\n",
    "\n",
    "cycle_length=26;\n",
    "state_indexer=0;\n",
    "\n",
    "dataset_kq['time']=1;\n",
    "dataset_kq['tvs']=-1;\n",
    "inx=0;\n",
    "for _time in range(cycle_length):\n",
    "    for _tvs in range(163):\n",
    "        dataset_kq.loc[inx,'time'] = _time;\n",
    "        dataset_kq.loc[inx,'tvs'] = _tvs+1;\n",
    "        inx+=1;\n",
    "\n",
    "        \n",
    "kqmax=dataset_kq.query('time==0').sort_values('kq').tail(20)\n",
    "len(np.unique(kqmax.tvs))"
   ]
  },
  {
   "cell_type": "code",
   "execution_count": 15,
   "metadata": {},
   "outputs": [
    {
     "data": {
      "text/plain": [
       "25.0"
      ]
     },
     "execution_count": 15,
     "metadata": {},
     "output_type": "execute_result"
    }
   ],
   "source": []
  },
  {
   "cell_type": "code",
   "execution_count": 3,
   "metadata": {},
   "outputs": [],
   "source": [
    "def GetDatasetKK(_folder,state_indexer):\n",
    "    dfa=[];\n",
    "    for i in _folder:\n",
    "        #print(i,state_indexer)\n",
    "        dataset_kk=pd.read_csv(i ,names=['tvs','tvel','time','kk'],sep=';' )\n",
    "        dataset_kk.tvel+=1\n",
    "        dataset_kk['state']=state_indexer;\n",
    "        state_indexer+=1;\n",
    "        dt_kk=dataset_kk.query('tvel==272 or tvel==282 or tvel==292 or tvel==302 or tvel==312 or tvel==322')\n",
    "        #dt_kk=dataset_kk.query('tvel==277 or tvel==287 or tvel==297 or tvel==307 or tvel==317 or tvel==327')\n",
    "        dt_kk=pd.concat([dt_kk.query('tvs==@i') for i in (kqmax.tvs.tolist())], ignore_index=True, sort=False)\n",
    "        dfa.append(dt_kk);\n",
    "    df=pd.concat(dfa, ignore_index=True, sort=False);\n",
    "    print('folder ready!');\n",
    "    return df,state_indexer;"
   ]
  },
  {
   "cell_type": "code",
   "execution_count": 4,
   "metadata": {},
   "outputs": [],
   "source": [
    "def GetDatasetKQ(_folder,state_indexer):\n",
    "    dfa=[]\n",
    "    for i in _folder:\n",
    "        #print(i,state_indexer)\n",
    "        dataset_kq=pd.read_csv(i, names=['kq'])\n",
    "        dataset_kq['time']=1;\n",
    "        dataset_kq['tvs']=-1;\n",
    "        dataset_kq['state']=state_indexer;\n",
    "        state_indexer+=1;\n",
    "        inx=0;\n",
    "        for _time in range(cycle_length):\n",
    "            for _tvs in range(163):\n",
    "                dataset_kq.loc[inx,'time'] = _time;\n",
    "                dataset_kq.loc[inx,'tvs'] = _tvs+1;\n",
    "                inx+=1;\n",
    "        dfa.append(dataset_kq);\n",
    "    df=pd.concat(dfa, ignore_index=True, sort=False);\n",
    "    print('folder ready');\n",
    "    return df,state_indexer;"
   ]
  },
  {
   "cell_type": "code",
   "execution_count": 5,
   "metadata": {},
   "outputs": [],
   "source": [
    "def Dataset(dataset_kq, dataset_kk):\n",
    "    kr=[]\n",
    "    kq=[]\n",
    "    for i in range(len(dataset_kk)):\n",
    "        val=dataset_kk.iloc[i];\n",
    "        kq_val=dataset_kq.query('state==@val.state & tvs==@val.tvs')\n",
    "        kq_val.index=[0]\n",
    "        kr.append(val.kk*kq_val.kq[0])\n",
    "        kq.append(kq_val.kq[0])\n",
    "    dataset_kk['kq']=kq\n",
    "    dataset_kk['kr']=kr\n",
    "    print('state ready')\n",
    "    return dataset_kk;"
   ]
  },
  {
   "cell_type": "code",
   "execution_count": 6,
   "metadata": {},
   "outputs": [
    {
     "name": "stdout",
     "output_type": "stream",
     "text": [
      "folder ready!\n",
      "\n",
      "folder ready!\n",
      "\n",
      "folder ready!\n",
      "\n"
     ]
    }
   ],
   "source": [
    "state_indexer=0;\n",
    "names_kk= glob.glob('D:/Vasiliev/PERMAK-A/nv/8d9d/13/9/*.csv', recursive=True)\n",
    "dataset_kk_1,state_indexer=GetDatasetKK(names_kk,state_indexer)\n",
    "names_kk= glob.glob('D:/Vasiliev/PERMAK-A/nv/8d9d/23/9/*.csv', recursive=True)\n",
    "dataset_kk_2,state_indexer=GetDatasetKK(names_kk,state_indexer)\n",
    "names_kk= glob.glob('D:/Vasiliev/PERMAK-A/nv/8d9d/33/9/*.csv', recursive=True)\n",
    "dataset_kk_3,state_indexer=GetDatasetKK(names_kk,state_indexer)\n",
    "# Merging dataset with kk\n",
    "cdf=[dataset_kk_1,dataset_kk_2,dataset_kk_3];\n",
    "dataset_kr=pd.concat(cdf, ignore_index=True, sort=False)"
   ]
  },
  {
   "cell_type": "markdown",
   "metadata": {},
   "source": [
    "Получили все параметры для угловых твэлов из ТВС в kqmax "
   ]
  },
  {
   "cell_type": "code",
   "execution_count": 7,
   "metadata": {},
   "outputs": [
    {
     "name": "stdout",
     "output_type": "stream",
     "text": [
      "folder ready\n",
      "folder ready\n",
      "folder ready\n"
     ]
    }
   ],
   "source": [
    "state_indexer=0;\n",
    "names_kq= glob.glob('D:/Vasiliev/PERMAK-A/nv/8d9d/13/9/*.txt', recursive=True)\n",
    "dataset_kq_1,state_indexer=GetDatasetKQ(names_kq, state_indexer)\n",
    "names_kq= glob.glob('D:/Vasiliev/PERMAK-A/nv/8d9d/23/9/*.txt', recursive=True)\n",
    "dataset_kq_2,state_indexer=GetDatasetKQ(names_kq,state_indexer)\n",
    "names_kq= glob.glob('D:/Vasiliev/PERMAK-A/nv/8d9d/33/9/*.txt', recursive=True)\n",
    "dataset_kq_3,state_indexer=GetDatasetKQ(names_kq,state_indexer)\n",
    "dataset_kq_u=pd.concat([dataset_kq_1,dataset_kq_2,dataset_kq_3],ignore_index=True, sort=False);\n",
    "dataset_kq=pd.concat([dataset_kq_u.query('tvs==@i') for i in (kqmax.tvs)], ignore_index=True, sort=False)"
   ]
  },
  {
   "cell_type": "code",
   "execution_count": null,
   "metadata": {},
   "outputs": [],
   "source": []
  },
  {
   "cell_type": "code",
   "execution_count": 8,
   "metadata": {},
   "outputs": [
    {
     "name": "stdout",
     "output_type": "stream",
     "text": [
      "state ready\n"
     ]
    },
    {
     "name": "stderr",
     "output_type": "stream",
     "text": [
      "C:\\ProgramData\\Anaconda3\\lib\\site-packages\\ipykernel_launcher.py:10: SettingWithCopyWarning: \n",
      "A value is trying to be set on a copy of a slice from a DataFrame.\n",
      "Try using .loc[row_indexer,col_indexer] = value instead\n",
      "\n",
      "See the caveats in the documentation: http://pandas.pydata.org/pandas-docs/stable/indexing.html#indexing-view-versus-copy\n",
      "  # Remove the CWD from sys.path while we load stuff.\n",
      "C:\\ProgramData\\Anaconda3\\lib\\site-packages\\ipykernel_launcher.py:11: SettingWithCopyWarning: \n",
      "A value is trying to be set on a copy of a slice from a DataFrame.\n",
      "Try using .loc[row_indexer,col_indexer] = value instead\n",
      "\n",
      "See the caveats in the documentation: http://pandas.pydata.org/pandas-docs/stable/indexing.html#indexing-view-versus-copy\n",
      "  # This is added back by InteractiveShellApp.init_path()\n"
     ]
    }
   ],
   "source": [
    "united_b=Dataset(dataset_kq.query('time==0'), dataset_kr.query('time==0'))"
   ]
  },
  {
   "cell_type": "code",
   "execution_count": 9,
   "metadata": {},
   "outputs": [
    {
     "name": "stdout",
     "output_type": "stream",
     "text": [
      "state ready\n"
     ]
    },
    {
     "name": "stderr",
     "output_type": "stream",
     "text": [
      "C:\\ProgramData\\Anaconda3\\lib\\site-packages\\ipykernel_launcher.py:10: SettingWithCopyWarning: \n",
      "A value is trying to be set on a copy of a slice from a DataFrame.\n",
      "Try using .loc[row_indexer,col_indexer] = value instead\n",
      "\n",
      "See the caveats in the documentation: http://pandas.pydata.org/pandas-docs/stable/indexing.html#indexing-view-versus-copy\n",
      "  # Remove the CWD from sys.path while we load stuff.\n",
      "C:\\ProgramData\\Anaconda3\\lib\\site-packages\\ipykernel_launcher.py:11: SettingWithCopyWarning: \n",
      "A value is trying to be set on a copy of a slice from a DataFrame.\n",
      "Try using .loc[row_indexer,col_indexer] = value instead\n",
      "\n",
      "See the caveats in the documentation: http://pandas.pydata.org/pandas-docs/stable/indexing.html#indexing-view-versus-copy\n",
      "  # This is added back by InteractiveShellApp.init_path()\n"
     ]
    }
   ],
   "source": [
    "united_m=Dataset(dataset_kq.query('time==13'), dataset_kr.query('time==13'))"
   ]
  },
  {
   "cell_type": "code",
   "execution_count": 10,
   "metadata": {},
   "outputs": [
    {
     "name": "stdout",
     "output_type": "stream",
     "text": [
      "state ready\n"
     ]
    },
    {
     "name": "stderr",
     "output_type": "stream",
     "text": [
      "C:\\ProgramData\\Anaconda3\\lib\\site-packages\\ipykernel_launcher.py:10: SettingWithCopyWarning: \n",
      "A value is trying to be set on a copy of a slice from a DataFrame.\n",
      "Try using .loc[row_indexer,col_indexer] = value instead\n",
      "\n",
      "See the caveats in the documentation: http://pandas.pydata.org/pandas-docs/stable/indexing.html#indexing-view-versus-copy\n",
      "  # Remove the CWD from sys.path while we load stuff.\n",
      "C:\\ProgramData\\Anaconda3\\lib\\site-packages\\ipykernel_launcher.py:11: SettingWithCopyWarning: \n",
      "A value is trying to be set on a copy of a slice from a DataFrame.\n",
      "Try using .loc[row_indexer,col_indexer] = value instead\n",
      "\n",
      "See the caveats in the documentation: http://pandas.pydata.org/pandas-docs/stable/indexing.html#indexing-view-versus-copy\n",
      "  # This is added back by InteractiveShellApp.init_path()\n"
     ]
    }
   ],
   "source": [
    "united_e=Dataset(dataset_kq.query('time==25'), dataset_kr.query('time==25'))"
   ]
  },
  {
   "cell_type": "code",
   "execution_count": null,
   "metadata": {},
   "outputs": [],
   "source": []
  },
  {
   "cell_type": "code",
   "execution_count": 11,
   "metadata": {},
   "outputs": [],
   "source": [
    "united_b.to_csv('D:/Vasiliev/PERMAK-A/nv/8d9d/cen_time0_b.csv', index=False)\n",
    "united_m.to_csv('D:/Vasiliev/PERMAK-A/nv/8d9d/cen_time0_m.csv',index=False)\n",
    "united_e.to_csv('D:/Vasiliev/PERMAK-A/nv/8d9d/cen_time0_e.csv',index=False)"
   ]
  },
  {
   "cell_type": "code",
   "execution_count": null,
   "metadata": {},
   "outputs": [],
   "source": []
  },
  {
   "cell_type": "code",
   "execution_count": null,
   "metadata": {},
   "outputs": [],
   "source": []
  }
 ],
 "metadata": {
  "kernelspec": {
   "display_name": "Python 3",
   "language": "python",
   "name": "python3"
  },
  "language_info": {
   "codemirror_mode": {
    "name": "ipython",
    "version": 3
   },
   "file_extension": ".py",
   "mimetype": "text/x-python",
   "name": "python",
   "nbconvert_exporter": "python",
   "pygments_lexer": "ipython3",
   "version": "3.7.3"
  }
 },
 "nbformat": 4,
 "nbformat_minor": 2
}
